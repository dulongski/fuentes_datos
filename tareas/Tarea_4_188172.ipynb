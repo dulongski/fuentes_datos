{
 "cells": [
  {
   "cell_type": "markdown",
   "id": "7e9871ed",
   "metadata": {},
   "source": [
    "Fuentes de Datos\n",
    "Sebastian Dulong Salazar\n",
    "C.U. 188172\n",
    "# Tarea 4"
   ]
  },
  {
   "cell_type": "code",
   "execution_count": 1,
   "id": "d1220838",
   "metadata": {},
   "outputs": [],
   "source": [
    "import random"
   ]
  },
  {
   "cell_type": "markdown",
   "id": "3acf387d",
   "metadata": {},
   "source": [
    "## Pregunta 1"
   ]
  },
  {
   "cell_type": "code",
   "execution_count": 2,
   "id": "fc94230c",
   "metadata": {},
   "outputs": [],
   "source": [
    "def juego_clasico():\n",
    "    \n",
    "    score = [0,0]\n",
    "    answer_to_num_class = {'piedra': 1 , 'papel': 2 , 'tijera': 3 }\n",
    "    num_to_answer_class = {1:'piedra', 2:'papel',3:'tijera'}\n",
    "    \n",
    "    for i in range(10):\n",
    "        while True:\n",
    "            h_input = input(\"¿Piedra, papel, o tijera?\")\n",
    "            if(h_input in answer_to_num_class):\n",
    "                break\n",
    "        h = answer_to_num_class[h_input]\n",
    "        m = random.randint(1,3)\n",
    "        m_output = num_to_answer_class[m]\n",
    "        \n",
    "        if (h == m):\n",
    "            print(\"Partida \",i+1,\": Empate, ambos jugaron \",h_input)\n",
    "        elif (h-m % 3 == 1):\n",
    "            print(\"Partida \",i+1,\": Ganó el humano: \",h_input, \" vs. \",m_output)\n",
    "            score[0]+=1\n",
    "        else: \n",
    "            print(\"Partida \",i+1,\": Ganó la máquina: \",m_output, \" vs. \",h_input)\n",
    "            score[1]+=1\n",
    "        print()\n",
    "    \n",
    "    print(\"Marcador final: Humano \",score[0], \" - \",score[1], \" Máquina\")"
   ]
  },
  {
   "cell_type": "code",
   "execution_count": null,
   "id": "a2681dcb",
   "metadata": {},
   "outputs": [],
   "source": [
    "juego_clasico()"
   ]
  },
  {
   "cell_type": "markdown",
   "id": "7ddbf074",
   "metadata": {},
   "source": [
    "## Preguntas 3 y 4"
   ]
  },
  {
   "cell_type": "code",
   "execution_count": 6,
   "id": "0d5fbdaa",
   "metadata": {},
   "outputs": [],
   "source": [
    "def juego_clasico(formato=None):\n",
    "    \n",
    "    score = [0,0]\n",
    "    answer_to_num_class = {'piedra': 1 , 'papel': 2 , 'tijera': 3 }\n",
    "    num_to_answer_class = {1:'piedra', 2:'papel',3:'tijera'}\n",
    "    \n",
    "    for i in range(10):\n",
    "        while True:\n",
    "            h_input = input(\"¿Piedra, papel, o tijera?\")\n",
    "            if(h_input in answer_to_num_class):\n",
    "                break\n",
    "        h = answer_to_num_class[h_input]\n",
    "        \n",
    "        if(formato == 'casa_gana'):\n",
    "            m = h % 3 + 1\n",
    "        elif(formato == 'empate'):\n",
    "            m = h\n",
    "        else:\n",
    "            m = random.randint(1,3)\n",
    "        m_output = num_to_answer_class[m]\n",
    "        \n",
    "        if (h == m):\n",
    "            print(\"Partida \",i+1,\": Empate, ambos jugaron\",h_input)\n",
    "        elif (h-m % 3 == 1):\n",
    "            print(\"Partida \",i+1,\": Ganó el humano: \",h_input, \" vs. \",m_output)\n",
    "            score[0]+=1\n",
    "        else: \n",
    "            print(\"Partida \",i+1,\": Ganó la máquina: \",m_output, \" vs. \",h_input)\n",
    "            score[1]+=1\n",
    "        print()\n",
    "    \n",
    "    print(\"Marcador final: Humano \",score[0], \" - \",score[1], \" Máquina\")"
   ]
  },
  {
   "cell_type": "code",
   "execution_count": null,
   "id": "8107132b",
   "metadata": {},
   "outputs": [],
   "source": [
    "juego_clasico('casa_gana')"
   ]
  },
  {
   "cell_type": "code",
   "execution_count": null,
   "id": "6de60501",
   "metadata": {},
   "outputs": [],
   "source": [
    "juego_clasico('empate')"
   ]
  },
  {
   "cell_type": "markdown",
   "id": "1304d09c",
   "metadata": {},
   "source": [
    "## Pregunta 2 + extra xD"
   ]
  },
  {
   "cell_type": "code",
   "execution_count": 9,
   "id": "06109134",
   "metadata": {},
   "outputs": [],
   "source": [
    "def juego_ampliado():\n",
    "    \n",
    "    score = [0,0]\n",
    "    answer_to_num_amp = {'piedra': 1 , 'spock': 2 , 'papel': 3, 'lagarto': 4, 'tijera': 5 }\n",
    "    num_to_answer_amp = {1:'piedra' , 2:'spock' , 3:'papel', 4:'lagarto',5: 'tijera'}\n",
    "    \n",
    "    for i in range(10):\n",
    "        while True:\n",
    "            h_input = input(\"¿Piedra, papel, tijera, lagarto, o spock?\")\n",
    "            if(h_input in answer_to_num_amp):\n",
    "                break\n",
    "        h = answer_to_num_amp[h_input]\n",
    "        m = random.randint(1,5)\n",
    "        m_output = num_to_answer_amp[m]\n",
    "        \n",
    "        if (h == m):\n",
    "            print(\"Partida \",i+1,\": Empate, ambos jugaron \",h_input)\n",
    "        elif ((h-m%5 == 1) | (h-m%5 == 2)):\n",
    "            print(\"Partida \",i+1,\": Ganó el humano: \",h_input, \" vs. \",m_output)\n",
    "            score[0]+=1\n",
    "        else: \n",
    "            print(\"Partida \",i+1,\": Ganó la máquina: \",m_output, \" vs. \",h_input)\n",
    "            score[1]+=1\n",
    "        print()\n",
    "    \n",
    "    print(\"Marcador final: Humano \",score[0], \" - \",score[1], \" Máquina\")"
   ]
  },
  {
   "cell_type": "code",
   "execution_count": null,
   "id": "1e895b37",
   "metadata": {},
   "outputs": [],
   "source": [
    "juego_ampliado()"
   ]
  },
  {
   "cell_type": "code",
   "execution_count": 11,
   "id": "e10b6c18",
   "metadata": {},
   "outputs": [],
   "source": [
    "def juego_ampliado(formato=None):\n",
    "    \n",
    "    score = [0,0]\n",
    "    answer_to_num_amp = {'piedra': 1 , 'spock': 2 , 'papel': 3, 'lagarto': 4, 'tijera': 5 }\n",
    "    num_to_answer_amp = {1:'piedra' , 2:'spock' , 3:'papel', 4:'lagarto',5: 'tijera'}\n",
    "    \n",
    "    for i in range(10):\n",
    "        while True:\n",
    "            h_input = input(\"¿Piedra, papel, tijera, lagarto, o spock?\")\n",
    "            if(h_input in answer_to_num_amp):\n",
    "                break\n",
    "        h = answer_to_num_amp[h_input]\n",
    "        \n",
    "        if(formato=='Sheldon'):\n",
    "            m = 2\n",
    "        else:\n",
    "            m = random.randint(1,5)\n",
    "        m_output = num_to_answer_amp[m]\n",
    "        \n",
    "        if (h == m):\n",
    "            print(\"Partida \",i+1,\": Empate, ambos jugaron \",h_input)\n",
    "        elif ((h-m%5 == 1) | (h-m%5 == 2)):\n",
    "            print(\"Partida \",i+1,\": Ganó el humano: \",h_input, \" vs. \",m_output)\n",
    "            score[0]+=1\n",
    "        else: \n",
    "            print(\"Partida \",i+1,\": Ganó la máquina: \",m_output, \" vs. \",h_input)\n",
    "            score[1]+=1\n",
    "        print()\n",
    "    \n",
    "    print(\"Marcador final: Humano \",score[0], \" - \",score[1], \" Máquina\")"
   ]
  },
  {
   "cell_type": "code",
   "execution_count": null,
   "id": "30203cf0",
   "metadata": {},
   "outputs": [],
   "source": [
    "juego_ampliado('Sheldon')"
   ]
  }
 ],
 "metadata": {
  "kernelspec": {
   "display_name": "fuentes_datos",
   "language": "python",
   "name": "fuentes_datos"
  },
  "language_info": {
   "codemirror_mode": {
    "name": "ipython",
    "version": 3
   },
   "file_extension": ".py",
   "mimetype": "text/x-python",
   "name": "python",
   "nbconvert_exporter": "python",
   "pygments_lexer": "ipython3",
   "version": "3.8.10"
  }
 },
 "nbformat": 4,
 "nbformat_minor": 5
}
