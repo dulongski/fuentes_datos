{
 "cells": [
  {
   "cell_type": "markdown",
   "id": "6868ee39",
   "metadata": {},
   "source": [
    "# Tarea 5\n",
    "## Fuentes de Datos\n",
    "## Sebastian Dulong Salazar \n",
    "## C.U. 188172"
   ]
  },
  {
   "cell_type": "code",
   "execution_count": 63,
   "id": "3ec462f1",
   "metadata": {},
   "outputs": [],
   "source": [
    "import pandas as pd\n",
    "import numpy as np"
   ]
  },
  {
   "cell_type": "markdown",
   "id": "e67d61b1",
   "metadata": {},
   "source": [
    "Pregunta 1"
   ]
  },
  {
   "cell_type": "code",
   "execution_count": 64,
   "id": "3d00267e",
   "metadata": {},
   "outputs": [],
   "source": [
    "covid = pd.read_csv(\"/mnt/c/Users/ssds6/Documents/fd/casos_nacionales_covid-19.csv\") #Datos obtenidos 16-nov-2021"
   ]
  },
  {
   "cell_type": "code",
   "execution_count": 65,
   "id": "f2c106af",
   "metadata": {},
   "outputs": [],
   "source": [
    "covid.drop(['Unnamed: 0'], axis=1, inplace=True)"
   ]
  },
  {
   "cell_type": "code",
   "execution_count": 66,
   "id": "e6f7654c",
   "metadata": {
    "scrolled": true
   },
   "outputs": [],
   "source": [
    "covid['fecha_ingreso'] = pd.to_datetime(covid['fecha_ingreso'], infer_datetime_format = '%Y-%M-%D')\n",
    "covid['fecha_sintomas'] = pd.to_datetime(covid['fecha_sintomas'], infer_datetime_format = '%Y-%M-%D')\n",
    "covid['fecha_def'] = pd.to_datetime(covid['fecha_def'], infer_datetime_format = '%Y-%M-%D')"
   ]
  },
  {
   "cell_type": "markdown",
   "id": "f14f0beb",
   "metadata": {},
   "source": [
    "Pregunta 2"
   ]
  },
  {
   "cell_type": "code",
   "execution_count": 67,
   "id": "ac4ab56a",
   "metadata": {},
   "outputs": [],
   "source": [
    "defunciones = covid.dropna(subset=['fecha_def'])"
   ]
  },
  {
   "cell_type": "code",
   "execution_count": 68,
   "id": "aa2ef6b1",
   "metadata": {},
   "outputs": [],
   "source": [
    "df = defunciones.entidad_res.value_counts().rename_axis('entidades').reset_index(name='num_defunciones')"
   ]
  },
  {
   "cell_type": "code",
   "execution_count": 69,
   "id": "cfd7b03c",
   "metadata": {
    "scrolled": true
   },
   "outputs": [
    {
     "data": {
      "text/html": [
       "<div>\n",
       "<style scoped>\n",
       "    .dataframe tbody tr th:only-of-type {\n",
       "        vertical-align: middle;\n",
       "    }\n",
       "\n",
       "    .dataframe tbody tr th {\n",
       "        vertical-align: top;\n",
       "    }\n",
       "\n",
       "    .dataframe thead th {\n",
       "        text-align: right;\n",
       "    }\n",
       "</style>\n",
       "<table border=\"1\" class=\"dataframe\">\n",
       "  <thead>\n",
       "    <tr style=\"text-align: right;\">\n",
       "      <th></th>\n",
       "      <th>entidades</th>\n",
       "      <th>num_defunciones</th>\n",
       "    </tr>\n",
       "  </thead>\n",
       "  <tbody>\n",
       "    <tr>\n",
       "      <th>0</th>\n",
       "      <td>MÉXICO</td>\n",
       "      <td>16662</td>\n",
       "    </tr>\n",
       "    <tr>\n",
       "      <th>1</th>\n",
       "      <td>HIDALGO</td>\n",
       "      <td>528</td>\n",
       "    </tr>\n",
       "    <tr>\n",
       "      <th>2</th>\n",
       "      <td>PUEBLA</td>\n",
       "      <td>298</td>\n",
       "    </tr>\n",
       "    <tr>\n",
       "      <th>3</th>\n",
       "      <td>GUERRERO</td>\n",
       "      <td>193</td>\n",
       "    </tr>\n",
       "    <tr>\n",
       "      <th>4</th>\n",
       "      <td>MORELOS</td>\n",
       "      <td>179</td>\n",
       "    </tr>\n",
       "    <tr>\n",
       "      <th>5</th>\n",
       "      <td>VERACRUZ DE IGNACIO DE LA LLAVE</td>\n",
       "      <td>117</td>\n",
       "    </tr>\n",
       "    <tr>\n",
       "      <th>6</th>\n",
       "      <td>OAXACA</td>\n",
       "      <td>89</td>\n",
       "    </tr>\n",
       "    <tr>\n",
       "      <th>7</th>\n",
       "      <td>MICHOACÁN DE OCAMPO</td>\n",
       "      <td>81</td>\n",
       "    </tr>\n",
       "    <tr>\n",
       "      <th>8</th>\n",
       "      <td>TLAXCALA</td>\n",
       "      <td>72</td>\n",
       "    </tr>\n",
       "    <tr>\n",
       "      <th>9</th>\n",
       "      <td>GUANAJUATO</td>\n",
       "      <td>62</td>\n",
       "    </tr>\n",
       "  </tbody>\n",
       "</table>\n",
       "</div>"
      ],
      "text/plain": [
       "                         entidades  num_defunciones\n",
       "0                           MÉXICO            16662\n",
       "1                          HIDALGO              528\n",
       "2                           PUEBLA              298\n",
       "3                         GUERRERO              193\n",
       "4                          MORELOS              179\n",
       "5  VERACRUZ DE IGNACIO DE LA LLAVE              117\n",
       "6                           OAXACA               89\n",
       "7              MICHOACÁN DE OCAMPO               81\n",
       "8                         TLAXCALA               72\n",
       "9                       GUANAJUATO               62"
      ]
     },
     "execution_count": 69,
     "metadata": {},
     "output_type": "execute_result"
    }
   ],
   "source": [
    "df.head(10)"
   ]
  },
  {
   "cell_type": "markdown",
   "id": "88de293b",
   "metadata": {},
   "source": [
    "Pregunta 3"
   ]
  },
  {
   "cell_type": "code",
   "execution_count": 70,
   "id": "ef5fad19",
   "metadata": {},
   "outputs": [],
   "source": [
    "cmb = defunciones.melt(id_vars='id_registro', value_vars=['neumonia', 'embarazo', 'diabetes', 'epoc', 'asma', 'inmusupr', 'hipertension', 'otra_com', 'cardiovascular', 'obesidad', 'renal_cronica', 'tabaquismo', 'otro_caso'], var_name=\"comorbilidad\", value_name=\"valor\")"
   ]
  },
  {
   "cell_type": "code",
   "execution_count": 71,
   "id": "646a1973",
   "metadata": {},
   "outputs": [
    {
     "data": {
      "text/plain": [
       "neumonia          50683\n",
       "hipertension      26990\n",
       "diabetes          23121\n",
       "otro_caso         14522\n",
       "obesidad          13398\n",
       "tabaquismo         6534\n",
       "renal_cronica      4521\n",
       "otra_com           3649\n",
       "cardiovascular     3576\n",
       "epoc               2962\n",
       "inmusupr           2001\n",
       "asma                873\n",
       "embarazo             40\n",
       "Name: comorbilidad, dtype: int64"
      ]
     },
     "execution_count": 71,
     "metadata": {},
     "output_type": "execute_result"
    }
   ],
   "source": [
    "cmb2 = cmb[cmb['valor'] == 'SI']\n",
    "cmb2.comorbilidad.value_counts()"
   ]
  },
  {
   "cell_type": "code",
   "execution_count": 72,
   "id": "99625dbd",
   "metadata": {
    "scrolled": true
   },
   "outputs": [
    {
     "data": {
      "text/html": [
       "<div>\n",
       "<style scoped>\n",
       "    .dataframe tbody tr th:only-of-type {\n",
       "        vertical-align: middle;\n",
       "    }\n",
       "\n",
       "    .dataframe tbody tr th {\n",
       "        vertical-align: top;\n",
       "    }\n",
       "\n",
       "    .dataframe thead th {\n",
       "        text-align: right;\n",
       "    }\n",
       "</style>\n",
       "<table border=\"1\" class=\"dataframe\">\n",
       "  <thead>\n",
       "    <tr style=\"text-align: right;\">\n",
       "      <th></th>\n",
       "      <th></th>\n",
       "      <th>id_registro</th>\n",
       "      <th>valor</th>\n",
       "    </tr>\n",
       "    <tr>\n",
       "      <th>comorbilidad</th>\n",
       "      <th>entidad_res</th>\n",
       "      <th></th>\n",
       "      <th></th>\n",
       "    </tr>\n",
       "  </thead>\n",
       "  <tbody>\n",
       "    <tr>\n",
       "      <th rowspan=\"5\" valign=\"top\">asma</th>\n",
       "      <th>GUANAJUATO</th>\n",
       "      <td>1</td>\n",
       "      <td>1</td>\n",
       "    </tr>\n",
       "    <tr>\n",
       "      <th>GUERRERO</th>\n",
       "      <td>2</td>\n",
       "      <td>2</td>\n",
       "    </tr>\n",
       "    <tr>\n",
       "      <th>HIDALGO</th>\n",
       "      <td>4</td>\n",
       "      <td>4</td>\n",
       "    </tr>\n",
       "    <tr>\n",
       "      <th>JALISCO</th>\n",
       "      <td>2</td>\n",
       "      <td>2</td>\n",
       "    </tr>\n",
       "    <tr>\n",
       "      <th>MICHOACÁN DE OCAMPO</th>\n",
       "      <td>2</td>\n",
       "      <td>2</td>\n",
       "    </tr>\n",
       "    <tr>\n",
       "      <th>...</th>\n",
       "      <th>...</th>\n",
       "      <td>...</td>\n",
       "      <td>...</td>\n",
       "    </tr>\n",
       "    <tr>\n",
       "      <th rowspan=\"5\" valign=\"top\">tabaquismo</th>\n",
       "      <th>SINALOA</th>\n",
       "      <td>1</td>\n",
       "      <td>1</td>\n",
       "    </tr>\n",
       "    <tr>\n",
       "      <th>TAMAULIPAS</th>\n",
       "      <td>3</td>\n",
       "      <td>3</td>\n",
       "    </tr>\n",
       "    <tr>\n",
       "      <th>TLAXCALA</th>\n",
       "      <td>8</td>\n",
       "      <td>8</td>\n",
       "    </tr>\n",
       "    <tr>\n",
       "      <th>VERACRUZ DE IGNACIO DE LA LLAVE</th>\n",
       "      <td>7</td>\n",
       "      <td>7</td>\n",
       "    </tr>\n",
       "    <tr>\n",
       "      <th>YUCATÁN</th>\n",
       "      <td>1</td>\n",
       "      <td>1</td>\n",
       "    </tr>\n",
       "  </tbody>\n",
       "</table>\n",
       "<p>208 rows × 2 columns</p>\n",
       "</div>"
      ],
      "text/plain": [
       "                                              id_registro  valor\n",
       "comorbilidad entidad_res                                        \n",
       "asma         GUANAJUATO                                 1      1\n",
       "             GUERRERO                                   2      2\n",
       "             HIDALGO                                    4      4\n",
       "             JALISCO                                    2      2\n",
       "             MICHOACÁN DE OCAMPO                        2      2\n",
       "...                                                   ...    ...\n",
       "tabaquismo   SINALOA                                    1      1\n",
       "             TAMAULIPAS                                 3      3\n",
       "             TLAXCALA                                   8      8\n",
       "             VERACRUZ DE IGNACIO DE LA LLAVE            7      7\n",
       "             YUCATÁN                                    1      1\n",
       "\n",
       "[208 rows x 2 columns]"
      ]
     },
     "execution_count": 72,
     "metadata": {},
     "output_type": "execute_result"
    }
   ],
   "source": [
    "def2 = defunciones[['id_registro', 'entidad_res']]\n",
    "cmb_ent = cmb2.merge(def2, how='left', on='id_registro')\n",
    "cmb_ent.groupby(['comorbilidad','entidad_res']).count()"
   ]
  },
  {
   "cell_type": "markdown",
   "id": "d4863ddb",
   "metadata": {},
   "source": [
    "Pregunta 4"
   ]
  },
  {
   "cell_type": "code",
   "execution_count": 73,
   "id": "e11cad25",
   "metadata": {},
   "outputs": [],
   "source": [
    "sobrevivientes = covid.drop(defunciones.index)"
   ]
  },
  {
   "cell_type": "code",
   "execution_count": 74,
   "id": "54d221a2",
   "metadata": {},
   "outputs": [
    {
     "data": {
      "text/plain": [
       "NO APLICA          0.968762\n",
       "NO                 0.029411\n",
       "SI                 0.001674\n",
       "NO ESPECIFICADO    0.000154\n",
       "Name: intubado, dtype: float64"
      ]
     },
     "execution_count": 74,
     "metadata": {},
     "output_type": "execute_result"
    }
   ],
   "source": [
    "sobrevivientes.intubado.value_counts(normalize=True)"
   ]
  },
  {
   "cell_type": "code",
   "execution_count": 75,
   "id": "7bd6191d",
   "metadata": {
    "scrolled": true
   },
   "outputs": [
    {
     "data": {
      "text/html": [
       "<div>\n",
       "<style scoped>\n",
       "    .dataframe tbody tr th:only-of-type {\n",
       "        vertical-align: middle;\n",
       "    }\n",
       "\n",
       "    .dataframe tbody tr th {\n",
       "        vertical-align: top;\n",
       "    }\n",
       "\n",
       "    .dataframe thead th {\n",
       "        text-align: right;\n",
       "    }\n",
       "</style>\n",
       "<table border=\"1\" class=\"dataframe\">\n",
       "  <thead>\n",
       "    <tr style=\"text-align: right;\">\n",
       "      <th></th>\n",
       "      <th></th>\n",
       "      <th>id_registro</th>\n",
       "      <th>valor</th>\n",
       "    </tr>\n",
       "    <tr>\n",
       "      <th>comorbilidad</th>\n",
       "      <th>entidad_res</th>\n",
       "      <th></th>\n",
       "      <th></th>\n",
       "    </tr>\n",
       "  </thead>\n",
       "  <tbody>\n",
       "    <tr>\n",
       "      <th rowspan=\"5\" valign=\"top\">asma</th>\n",
       "      <th>DURANGO</th>\n",
       "      <td>6</td>\n",
       "      <td>6</td>\n",
       "    </tr>\n",
       "    <tr>\n",
       "      <th>GUANAJUATO</th>\n",
       "      <td>21</td>\n",
       "      <td>21</td>\n",
       "    </tr>\n",
       "    <tr>\n",
       "      <th>GUERRERO</th>\n",
       "      <td>31</td>\n",
       "      <td>31</td>\n",
       "    </tr>\n",
       "    <tr>\n",
       "      <th>HIDALGO</th>\n",
       "      <td>128</td>\n",
       "      <td>128</td>\n",
       "    </tr>\n",
       "    <tr>\n",
       "      <th>JALISCO</th>\n",
       "      <td>19</td>\n",
       "      <td>19</td>\n",
       "    </tr>\n",
       "    <tr>\n",
       "      <th>...</th>\n",
       "      <th>...</th>\n",
       "      <td>...</td>\n",
       "      <td>...</td>\n",
       "    </tr>\n",
       "    <tr>\n",
       "      <th rowspan=\"5\" valign=\"top\">tabaquismo</th>\n",
       "      <th>TAMAULIPAS</th>\n",
       "      <td>31</td>\n",
       "      <td>31</td>\n",
       "    </tr>\n",
       "    <tr>\n",
       "      <th>TLAXCALA</th>\n",
       "      <td>123</td>\n",
       "      <td>123</td>\n",
       "    </tr>\n",
       "    <tr>\n",
       "      <th>VERACRUZ DE IGNACIO DE LA LLAVE</th>\n",
       "      <td>179</td>\n",
       "      <td>179</td>\n",
       "    </tr>\n",
       "    <tr>\n",
       "      <th>YUCATÁN</th>\n",
       "      <td>26</td>\n",
       "      <td>26</td>\n",
       "    </tr>\n",
       "    <tr>\n",
       "      <th>ZACATECAS</th>\n",
       "      <td>10</td>\n",
       "      <td>10</td>\n",
       "    </tr>\n",
       "  </tbody>\n",
       "</table>\n",
       "<p>288 rows × 2 columns</p>\n",
       "</div>"
      ],
      "text/plain": [
       "                                              id_registro  valor\n",
       "comorbilidad entidad_res                                        \n",
       "asma         DURANGO                                    6      6\n",
       "             GUANAJUATO                                21     21\n",
       "             GUERRERO                                  31     31\n",
       "             HIDALGO                                  128    128\n",
       "             JALISCO                                   19     19\n",
       "...                                                   ...    ...\n",
       "tabaquismo   TAMAULIPAS                                31     31\n",
       "             TLAXCALA                                 123    123\n",
       "             VERACRUZ DE IGNACIO DE LA LLAVE          179    179\n",
       "             YUCATÁN                                   26     26\n",
       "             ZACATECAS                                 10     10\n",
       "\n",
       "[288 rows x 2 columns]"
      ]
     },
     "execution_count": 75,
     "metadata": {},
     "output_type": "execute_result"
    }
   ],
   "source": [
    "cmb_sob = sobrevivientes.melt(id_vars='id_registro', value_vars=['neumonia', 'embarazo', 'diabetes', 'epoc', 'asma', 'inmusupr', 'hipertension', 'otra_com', 'cardiovascular', 'obesidad', 'renal_cronica', 'tabaquismo', 'otro_caso'], var_name=\"comorbilidad\", value_name=\"valor\")\n",
    "cmb2_sob = cmb_sob[cmb_sob['valor'] == 'SI']\n",
    "sob2 = sobrevivientes[['id_registro', 'entidad_res']]\n",
    "cmb_ent_sob = cmb2_sob.merge(sob2, how='left', on='id_registro')\n",
    "cmb_ent_sob.groupby(['comorbilidad','entidad_res']).count()"
   ]
  },
  {
   "cell_type": "markdown",
   "id": "932a2387",
   "metadata": {},
   "source": [
    "Pregunta 5"
   ]
  },
  {
   "cell_type": "code",
   "execution_count": 102,
   "id": "70a6a05f",
   "metadata": {},
   "outputs": [
    {
     "name": "stderr",
     "output_type": "stream",
     "text": [
      "/tmp/ipykernel_887/1949668056.py:4: SettingWithCopyWarning: \n",
      "A value is trying to be set on a copy of a slice from a DataFrame.\n",
      "Try using .loc[row_indexer,col_indexer] = value instead\n",
      "\n",
      "See the caveats in the documentation: https://pandas.pydata.org/pandas-docs/stable/user_guide/indexing.html#returning-a-view-versus-a-copy\n",
      "  defunciones_hosp['dias_hospitalizado'] = (defunciones_hosp['fecha_def'] - defunciones_hosp['fecha_ingreso']).dt.days\n"
     ]
    }
   ],
   "source": [
    "defunciones_hosp = defunciones[defunciones['tipo_paciente'] == 'HOSPITALIZADO']\n",
    "defunciones_hosp.dropna(subset=['fecha_def'])\n",
    "defunciones_hosp.dropna(subset=['fecha_ingreso'])\n",
    "defunciones_hosp['dias_hospitalizado'] = (defunciones_hosp['fecha_def'] - defunciones_hosp['fecha_ingreso']).dt.days"
   ]
  },
  {
   "cell_type": "code",
   "execution_count": 103,
   "id": "c160590e",
   "metadata": {
    "scrolled": true
   },
   "outputs": [
    {
     "data": {
      "text/plain": [
       "count    65046.000000\n",
       "mean         9.014390\n",
       "std         11.576827\n",
       "min       -365.000000\n",
       "25%          3.000000\n",
       "50%          6.000000\n",
       "75%         12.000000\n",
       "max        430.000000\n",
       "Name: dias_hospitalizado, dtype: float64"
      ]
     },
     "execution_count": 103,
     "metadata": {},
     "output_type": "execute_result"
    }
   ],
   "source": [
    "defunciones_hosp['dias_hospitalizado'].describe()"
   ]
  },
  {
   "cell_type": "code",
   "execution_count": 104,
   "id": "4d76665a",
   "metadata": {
    "scrolled": true
   },
   "outputs": [],
   "source": [
    "defunciones_hosp = defunciones_hosp.drop(defunciones_hosp.index[defunciones_hosp['dias_hospitalizado'] < 0])"
   ]
  },
  {
   "cell_type": "code",
   "execution_count": 105,
   "id": "432c375b",
   "metadata": {},
   "outputs": [
    {
     "data": {
      "text/plain": [
       "count    65001.000000\n",
       "mean         9.031584\n",
       "std         11.477234\n",
       "min          0.000000\n",
       "25%          3.000000\n",
       "50%          6.000000\n",
       "75%         12.000000\n",
       "max        430.000000\n",
       "Name: dias_hospitalizado, dtype: float64"
      ]
     },
     "execution_count": 105,
     "metadata": {},
     "output_type": "execute_result"
    }
   ],
   "source": [
    "defunciones_hosp['dias_hospitalizado'].describe()"
   ]
  },
  {
   "cell_type": "code",
   "execution_count": 106,
   "id": "34af4930",
   "metadata": {},
   "outputs": [],
   "source": [
    "defunciones_hosp = defunciones_hosp.drop(defunciones_hosp.index[defunciones_hosp['dias_hospitalizado'] <= 0])"
   ]
  },
  {
   "cell_type": "code",
   "execution_count": 107,
   "id": "67e9eaf0",
   "metadata": {},
   "outputs": [
    {
     "data": {
      "text/plain": [
       "count    59673.000000\n",
       "mean         9.837984\n",
       "std         11.642812\n",
       "min          1.000000\n",
       "25%          3.000000\n",
       "50%          7.000000\n",
       "75%         13.000000\n",
       "max        430.000000\n",
       "Name: dias_hospitalizado, dtype: float64"
      ]
     },
     "execution_count": 107,
     "metadata": {},
     "output_type": "execute_result"
    }
   ],
   "source": [
    "defunciones_hosp['dias_hospitalizado'].describe()"
   ]
  },
  {
   "cell_type": "markdown",
   "id": "fcae48e7",
   "metadata": {},
   "source": [
    "En total, 65046 personas hospitalizadas murieron.\n",
    "En promedio, morían cada 9 días, con una desviación estándar de 11.5 días (los datos mayores a 9 días eran relativamente pocos y mucho mayores 9 días para que con esa desviación estándar se llegara a ese promedio)\n",
    "El mínimo es -365 por un registro cuya fecha de defunción está registrada 1 año antes que la de ingreso (error humano). Al quitar ese, hay 2 que tienen -31 y luego, algunos con -27. Hay muchos errores de registro. Al quitar todos los menores a 0 (que no tienen sentido) nos queda que el mínimo es 0 días de hospitalización (salieron el mismo día), y sin esos, el mínimo es 1 día.\n",
    "El 50% de los datos se encuentra antes de un número menor al promedio, y después de ahí hay menor cantidad de datos por cuartil - están más separados\n",
    "El que más duró hospitalizado estuvo por más de un año (430 días)"
   ]
  },
  {
   "cell_type": "code",
   "execution_count": null,
   "id": "277cdb1a",
   "metadata": {},
   "outputs": [],
   "source": []
  }
 ],
 "metadata": {
  "kernelspec": {
   "display_name": "fuentes_datos",
   "language": "python",
   "name": "fuentes_datos"
  },
  "language_info": {
   "codemirror_mode": {
    "name": "ipython",
    "version": 3
   },
   "file_extension": ".py",
   "mimetype": "text/x-python",
   "name": "python",
   "nbconvert_exporter": "python",
   "pygments_lexer": "ipython3",
   "version": "3.8.10"
  }
 },
 "nbformat": 4,
 "nbformat_minor": 5
}
